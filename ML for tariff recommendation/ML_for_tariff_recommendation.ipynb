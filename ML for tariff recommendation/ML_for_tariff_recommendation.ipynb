{
 "cells": [
  {
   "cell_type": "markdown",
   "id": "2b519775",
   "metadata": {},
   "source": [
    "## Analysis and preprocessing"
   ]
  },
  {
   "cell_type": "code",
   "execution_count": 1,
   "id": "52968cdf",
   "metadata": {},
   "outputs": [],
   "source": [
    "import pandas as pd\n",
    "import numpy as np\n",
    "import matplotlib.pyplot as plt\n",
    "\n",
    "from sklearn.ensemble import RandomForestClassifier\n",
    "from sklearn.neighbors import KNeighborsClassifier\n",
    "from xgboost import XGBClassifier\n",
    "\n",
    "from sklearn.metrics import accuracy_score\n",
    "\n",
    "from sklearn.pipeline import Pipeline\n",
    "from sklearn.compose import ColumnTransformer\n",
    "from sklearn.preprocessing import OneHotEncoder, StandardScaler\n",
    "from sklearn.model_selection import train_test_split, GridSearchCV\n",
    "from sklearn.utils import shuffle\n",
    "from imblearn.over_sampling import RandomOverSampler\n",
    "\n",
    "import warnings as w\n",
    "w.filterwarnings('ignore')"
   ]
  },
  {
   "cell_type": "code",
   "execution_count": 2,
   "id": "a138999f",
   "metadata": {},
   "outputs": [
    {
     "data": {
      "text/html": [
       "<div>\n",
       "<style scoped>\n",
       "    .dataframe tbody tr th:only-of-type {\n",
       "        vertical-align: middle;\n",
       "    }\n",
       "\n",
       "    .dataframe tbody tr th {\n",
       "        vertical-align: top;\n",
       "    }\n",
       "\n",
       "    .dataframe thead th {\n",
       "        text-align: right;\n",
       "    }\n",
       "</style>\n",
       "<table border=\"1\" class=\"dataframe\">\n",
       "  <thead>\n",
       "    <tr style=\"text-align: right;\">\n",
       "      <th></th>\n",
       "      <th>calls</th>\n",
       "      <th>minutes</th>\n",
       "      <th>messages</th>\n",
       "      <th>mb_used</th>\n",
       "      <th>is_ultra</th>\n",
       "    </tr>\n",
       "  </thead>\n",
       "  <tbody>\n",
       "    <tr>\n",
       "      <th>0</th>\n",
       "      <td>40.0</td>\n",
       "      <td>311.90</td>\n",
       "      <td>83.0</td>\n",
       "      <td>19915.42</td>\n",
       "      <td>0</td>\n",
       "    </tr>\n",
       "    <tr>\n",
       "      <th>1</th>\n",
       "      <td>85.0</td>\n",
       "      <td>516.75</td>\n",
       "      <td>56.0</td>\n",
       "      <td>22696.96</td>\n",
       "      <td>0</td>\n",
       "    </tr>\n",
       "    <tr>\n",
       "      <th>2</th>\n",
       "      <td>77.0</td>\n",
       "      <td>467.66</td>\n",
       "      <td>86.0</td>\n",
       "      <td>21060.45</td>\n",
       "      <td>0</td>\n",
       "    </tr>\n",
       "    <tr>\n",
       "      <th>3</th>\n",
       "      <td>106.0</td>\n",
       "      <td>745.53</td>\n",
       "      <td>81.0</td>\n",
       "      <td>8437.39</td>\n",
       "      <td>1</td>\n",
       "    </tr>\n",
       "    <tr>\n",
       "      <th>4</th>\n",
       "      <td>66.0</td>\n",
       "      <td>418.74</td>\n",
       "      <td>1.0</td>\n",
       "      <td>14502.75</td>\n",
       "      <td>0</td>\n",
       "    </tr>\n",
       "  </tbody>\n",
       "</table>\n",
       "</div>"
      ],
      "text/plain": [
       "   calls  minutes  messages   mb_used  is_ultra\n",
       "0   40.0   311.90      83.0  19915.42         0\n",
       "1   85.0   516.75      56.0  22696.96         0\n",
       "2   77.0   467.66      86.0  21060.45         0\n",
       "3  106.0   745.53      81.0   8437.39         1\n",
       "4   66.0   418.74       1.0  14502.75         0"
      ]
     },
     "execution_count": 2,
     "metadata": {},
     "output_type": "execute_result"
    }
   ],
   "source": [
    "data = pd.read_csv('users_behavior.csv')\n",
    "data.head()"
   ]
  },
  {
   "cell_type": "code",
   "execution_count": 3,
   "id": "c36ff219",
   "metadata": {},
   "outputs": [
    {
     "name": "stdout",
     "output_type": "stream",
     "text": [
      "<class 'pandas.core.frame.DataFrame'>\n",
      "RangeIndex: 3214 entries, 0 to 3213\n",
      "Data columns (total 5 columns):\n",
      " #   Column    Non-Null Count  Dtype  \n",
      "---  ------    --------------  -----  \n",
      " 0   calls     3214 non-null   float64\n",
      " 1   minutes   3214 non-null   float64\n",
      " 2   messages  3214 non-null   float64\n",
      " 3   mb_used   3214 non-null   float64\n",
      " 4   is_ultra  3214 non-null   int64  \n",
      "dtypes: float64(4), int64(1)\n",
      "memory usage: 125.7 KB\n"
     ]
    }
   ],
   "source": [
    "data.info()"
   ]
  },
  {
   "cell_type": "code",
   "execution_count": 4,
   "id": "a27e82a0",
   "metadata": {},
   "outputs": [
    {
     "data": {
      "image/png": "[encoded data removed]",
      "text/plain": [
       "<Figure size 700x400 with 1 Axes>"
      ]
     },
     "metadata": {},
     "output_type": "display_data"
    }
   ],
   "source": [
    "data['is_ultra'].value_counts().plot(kind='bar', \n",
    "                                     grid=True,\n",
    "                                     figsize=(7, 4),\n",
    "                                     title='Отношение классов',\n",
    "                                     xlabel='Классы',\n",
    "                                     ylabel='Частота');"
   ]
  },
  {
   "cell_type": "markdown",
   "id": "fdddd877",
   "metadata": {},
   "source": [
    "**Сбалансируем классы с помощью upsample**"
   ]
  },
  {
   "cell_type": "code",
   "execution_count": 5,
   "id": "196eb144",
   "metadata": {},
   "outputs": [],
   "source": [
    "def upsample(features, target, repeat):\n",
    "    features_zeros = features[target == 0]\n",
    "    features_ones = features[target == 1]\n",
    "    target_zeros = target[target == 0]\n",
    "    target_ones = target[target == 1]\n",
    "    \n",
    "    features_upsampled = pd.concat([features_zeros] + [features_ones] * repeat)\n",
    "    target_upsampled = pd.concat([target_zeros] + [target_ones] * repeat)\n",
    "    \n",
    "    return shuffle(features_upsampled, target_upsampled, random_state=1)"
   ]
  },
  {
   "cell_type": "code",
   "execution_count": 6,
   "id": "1b0c339a",
   "metadata": {},
   "outputs": [
    {
     "data": {
      "image/png": "[encoded data removed]",
      "text/plain": [
       "<Figure size 700x400 with 1 Axes>"
      ]
     },
     "metadata": {},
     "output_type": "display_data"
    }
   ],
   "source": [
    "X = data.drop('is_ultra', axis=1)\n",
    "y = data['is_ultra']\n",
    "\n",
    "numeric = []\n",
    "[numeric.append(i) for i in data.columns if data[i].dtype == float or data[i].dtype == int]\n",
    "\n",
    "X_train, X_temp, y_train, y_temp = train_test_split(X, y, test_size=0.3, random_state=1)\n",
    "X_valid, X_test, y_valid, y_test = train_test_split(X_temp, y_temp, test_size=0.5, random_state=1)\n",
    "\n",
    "scaler = StandardScaler()\n",
    "X_train_scaled = scaler.fit_transform(X_train[numeric])\n",
    "X_valid_scaled = scaler.transform(X_valid[numeric])\n",
    "X_test_scaled = scaler.transform(X_test[numeric])\n",
    "\n",
    "ros = RandomOverSampler(random_state=1)\n",
    "X_train_up, y_train_up = ros.fit_resample(X_train_scaled, y_train)\n",
    "y_train_up.value_counts().plot(kind='bar', \n",
    "                               grid=True, \n",
    "                               figsize=(7, 4),\n",
    "                               title='Отношение классов',\n",
    "                               xlabel='Классы',\n",
    "                               ylabel='Частота');"
   ]
  },
  {
   "cell_type": "markdown",
   "id": "a1f8a2a8",
   "metadata": {},
   "source": [
    "## RandomForestClassifier"
   ]
  },
  {
   "cell_type": "code",
   "execution_count": 7,
   "id": "98a0b748",
   "metadata": {},
   "outputs": [
    {
     "name": "stdout",
     "output_type": "stream",
     "text": [
      "Accuracy valid\n",
      "\n",
      "0.8215767634854771\n",
      "\n",
      "Accuracy train\n",
      "\n",
      "0.7578973943647889\n",
      "\n",
      "Best params\n",
      "\n",
      "{'criterion': 'gini', 'max_depth': 5, 'min_samples_leaf': 3, 'min_samples_split': 2, 'n_estimators': 6}\n",
      "CPU times: total: 2min 45s\n",
      "Wall time: 2min 50s\n"
     ]
    }
   ],
   "source": [
    "%%time\n",
    "model = RandomForestClassifier(random_state=1)\n",
    "rfc_params = {'max_depth': range(2, 6),\n",
    "              'n_estimators': range(12),\n",
    "              'criterion': ['gini', 'entropy'],\n",
    "              'min_samples_split': range(4),\n",
    "              'min_samples_leaf': range(4)}\n",
    "rfc_model = GridSearchCV(model, \n",
    "                         rfc_params, \n",
    "                         scoring='accuracy', \n",
    "                         cv=5).fit(X_train_up, y_train_up)\n",
    "rfc_valid = accuracy_score(y_valid, rfc_model.predict(X_valid_scaled))\n",
    "rfc_best_score = rfc_model.best_score_\n",
    "rfc_best_params = rfc_model.best_params_\n",
    "print('Accuracy valid', rfc_valid, 'Accuracy train', rfc_best_score, 'Best params', rfc_best_params, sep='\\n\\n')"
   ]
  },
  {
   "cell_type": "markdown",
   "id": "41d31700",
   "metadata": {},
   "source": [
    "## KNeighborsClassifier"
   ]
  },
  {
   "cell_type": "code",
   "execution_count": 8,
   "id": "0661fcde",
   "metadata": {},
   "outputs": [
    {
     "name": "stdout",
     "output_type": "stream",
     "text": [
      "Accuracy valid\n",
      "\n",
      "0.7531120331950207\n",
      "\n",
      "Accuracy train\n",
      "\n",
      "0.8659972603835463\n",
      "\n",
      "Best params\n",
      "\n",
      "{'n_neighbors': 9, 'p': 1, 'weights': 'distance'}\n",
      "CPU times: total: 3.67 s\n",
      "Wall time: 3.67 s\n"
     ]
    }
   ],
   "source": [
    "%%time\n",
    "model = KNeighborsClassifier()\n",
    "knc_params = {'n_neighbors': [3, 5, 7, 9],\n",
    "              'weights': ['uniform', 'distance'],\n",
    "              'p': [1, 2]}\n",
    "knc_model = GridSearchCV(model, \n",
    "                         knc_params, \n",
    "                         scoring='accuracy', \n",
    "                         cv=5).fit(X_train_up, y_train_up)\n",
    "knc_valid = accuracy_score(y_valid, knc_model.predict(X_valid_scaled))\n",
    "knc_best_score = knc_model.best_score_\n",
    "knc_best_params = knc_model.best_params_\n",
    "print('Accuracy valid', knc_valid, 'Accuracy train', knc_best_score, 'Best params', knc_best_params, sep='\\n\\n')"
   ]
  },
  {
   "cell_type": "markdown",
   "id": "b795143e",
   "metadata": {},
   "source": [
    "## XGBClassifier"
   ]
  },
  {
   "cell_type": "code",
   "execution_count": 9,
   "id": "bb25d681",
   "metadata": {},
   "outputs": [
    {
     "name": "stdout",
     "output_type": "stream",
     "text": [
      "Accuracy valid\n",
      "\n",
      "0.7925311203319502\n",
      "\n",
      "Accuracy train\n",
      "\n",
      "0.8596726458295839\n",
      "\n",
      "Best params\n",
      "\n",
      "{'learning_rate': 0.1, 'max_depth': 9, 'n_estimators': 100}\n",
      "CPU times: total: 6min 6s\n",
      "Wall time: 2min 19s\n"
     ]
    }
   ],
   "source": [
    "%%time\n",
    "model = XGBClassifier(random_state=1)\n",
    "xgb_params = {'max_depth': range(2, 10),\n",
    "              'learning_rate': [0.05,0.1],\n",
    "              'n_estimators': range(10, 101, 10)}\n",
    "xgb_model = GridSearchCV(model, \n",
    "                         xgb_params, \n",
    "                         scoring='accuracy', \n",
    "                         cv=5).fit(X_train_up, y_train_up)\n",
    "xgb_valid = accuracy_score(y_valid, xgb_model.predict(X_valid_scaled))\n",
    "xgb_best_score = xgb_model.best_score_\n",
    "xgb_best_params = xgb_model.best_params_\n",
    "print('Accuracy valid', xgb_valid, 'Accuracy train', xgb_best_score, 'Best params', xgb_best_params, sep='\\n\\n')"
   ]
  },
  {
   "cell_type": "markdown",
   "id": "5e80313e",
   "metadata": {},
   "source": [
    "## Overall result and test"
   ]
  },
  {
   "cell_type": "code",
   "execution_count": 10,
   "id": "abf70556",
   "metadata": {},
   "outputs": [
    {
     "data": {
      "text/html": [
       "<div>\n",
       "<style scoped>\n",
       "    .dataframe tbody tr th:only-of-type {\n",
       "        vertical-align: middle;\n",
       "    }\n",
       "\n",
       "    .dataframe tbody tr th {\n",
       "        vertical-align: top;\n",
       "    }\n",
       "\n",
       "    .dataframe thead th {\n",
       "        text-align: right;\n",
       "    }\n",
       "</style>\n",
       "<table border=\"1\" class=\"dataframe\">\n",
       "  <thead>\n",
       "    <tr style=\"text-align: right;\">\n",
       "      <th></th>\n",
       "      <th>train</th>\n",
       "      <th>valid</th>\n",
       "    </tr>\n",
       "  </thead>\n",
       "  <tbody>\n",
       "    <tr>\n",
       "      <th>RFC</th>\n",
       "      <td>0.757897</td>\n",
       "      <td>0.821577</td>\n",
       "    </tr>\n",
       "    <tr>\n",
       "      <th>XGB</th>\n",
       "      <td>0.859673</td>\n",
       "      <td>0.792531</td>\n",
       "    </tr>\n",
       "    <tr>\n",
       "      <th>KNC</th>\n",
       "      <td>0.865997</td>\n",
       "      <td>0.753112</td>\n",
       "    </tr>\n",
       "  </tbody>\n",
       "</table>\n",
       "</div>"
      ],
      "text/plain": [
       "        train     valid\n",
       "RFC  0.757897  0.821577\n",
       "XGB  0.859673  0.792531\n",
       "KNC  0.865997  0.753112"
      ]
     },
     "execution_count": 10,
     "metadata": {},
     "output_type": "execute_result"
    }
   ],
   "source": [
    "objects = [[rfc_best_score, rfc_valid],\n",
    "           [knc_best_score, knc_valid],\n",
    "           [xgb_best_score, xgb_valid]]\n",
    "columns = ['train', 'valid']\n",
    "overall = pd.DataFrame(data=objects,\n",
    "                       columns=columns,\n",
    "                       index=['RFC', 'KNC', 'XGB'])\n",
    "overall.sort_values(by='valid', ascending=False)"
   ]
  },
  {
   "cell_type": "code",
   "execution_count": 11,
   "id": "2e1c552a",
   "metadata": {},
   "outputs": [
    {
     "name": "stdout",
     "output_type": "stream",
     "text": [
      "Accuracy test 0.782608695652174\n"
     ]
    }
   ],
   "source": [
    "rfc_test = accuracy_score(y_test, rfc_model.predict(X_test_scaled))\n",
    "print('Accuracy test', rfc_test)"
   ]
  },
  {
   "cell_type": "markdown",
   "id": "044b388e",
   "metadata": {},
   "source": [
    "На тестовой выборке была проверена модель с наибольшим значением метрики accuracy на валидационной выборке\n",
    "\n",
    "Вывод:\n",
    "1. Наивысшее значение метрики accuracy имеет модель KNeighborsClassifier, но модель переобучается\n",
    "2. Модель RandomForestClassifier показала улучшение на валидационной и тестовой выборках относительно обучающей\n",
    "3. Инструмент RandomOverSampler помог избежать дисбаланса классов\n",
    "4. Учитывая размер датасета получены максимальные значения метрики accuracy"
   ]
  }
 ],
 "metadata": {
  "kernelspec": {
   "display_name": "Python 3 (ipykernel)",
   "language": "python",
   "name": "python3"
  },
  "language_info": {
   "codemirror_mode": {
    "name": "ipython",
    "version": 3
   },
   "file_extension": ".py",
   "mimetype": "text/x-python",
   "name": "python",
   "nbconvert_exporter": "python",
   "pygments_lexer": "ipython3",
   "version": "3.9.18"
  }
 },
 "nbformat": 4,
 "nbformat_minor": 5
}

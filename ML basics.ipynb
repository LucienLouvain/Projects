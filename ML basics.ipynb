{
 "cells": [
  {
   "cell_type": "markdown",
   "id": "58cc1f85",
   "metadata": {},
   "source": [
    "## Analysis and preprocessing"
   ]
  },
  {
   "cell_type": "code",
   "execution_count": 1,
   "id": "47f1b219",
   "metadata": {},
   "outputs": [],
   "source": [
    "import pandas as pd\n",
    "import matplotlib.pyplot as plt\n",
    "\n",
    "from sklearn.ensemble import RandomForestClassifier\n",
    "from sklearn.neighbors import KNeighborsClassifier\n",
    "from xgboost import XGBClassifier\n",
    "\n",
    "from sklearn.metrics import accuracy_score\n",
    "\n",
    "from sklearn.pipeline import Pipeline\n",
    "from sklearn.compose import ColumnTransformer\n",
    "from sklearn.preprocessing import OneHotEncoder, StandardScaler\n",
    "from sklearn.model_selection import train_test_split, GridSearchCV\n",
    "from sklearn.utils import shuffle\n",
    "\n",
    "import warnings as w\n",
    "w.filterwarnings('ignore')"
   ]
  },
  {
   "cell_type": "code",
   "execution_count": 2,
   "id": "456de777",
   "metadata": {},
   "outputs": [
    {
     "data": {
      "text/html": [
       "<div>\n",
       "<style scoped>\n",
       "    .dataframe tbody tr th:only-of-type {\n",
       "        vertical-align: middle;\n",
       "    }\n",
       "\n",
       "    .dataframe tbody tr th {\n",
       "        vertical-align: top;\n",
       "    }\n",
       "\n",
       "    .dataframe thead th {\n",
       "        text-align: right;\n",
       "    }\n",
       "</style>\n",
       "<table border=\"1\" class=\"dataframe\">\n",
       "  <thead>\n",
       "    <tr style=\"text-align: right;\">\n",
       "      <th></th>\n",
       "      <th>calls</th>\n",
       "      <th>minutes</th>\n",
       "      <th>messages</th>\n",
       "      <th>mb_used</th>\n",
       "      <th>is_ultra</th>\n",
       "    </tr>\n",
       "  </thead>\n",
       "  <tbody>\n",
       "    <tr>\n",
       "      <th>0</th>\n",
       "      <td>40.0</td>\n",
       "      <td>311.90</td>\n",
       "      <td>83.0</td>\n",
       "      <td>19915.42</td>\n",
       "      <td>0</td>\n",
       "    </tr>\n",
       "    <tr>\n",
       "      <th>1</th>\n",
       "      <td>85.0</td>\n",
       "      <td>516.75</td>\n",
       "      <td>56.0</td>\n",
       "      <td>22696.96</td>\n",
       "      <td>0</td>\n",
       "    </tr>\n",
       "    <tr>\n",
       "      <th>2</th>\n",
       "      <td>77.0</td>\n",
       "      <td>467.66</td>\n",
       "      <td>86.0</td>\n",
       "      <td>21060.45</td>\n",
       "      <td>0</td>\n",
       "    </tr>\n",
       "    <tr>\n",
       "      <th>3</th>\n",
       "      <td>106.0</td>\n",
       "      <td>745.53</td>\n",
       "      <td>81.0</td>\n",
       "      <td>8437.39</td>\n",
       "      <td>1</td>\n",
       "    </tr>\n",
       "    <tr>\n",
       "      <th>4</th>\n",
       "      <td>66.0</td>\n",
       "      <td>418.74</td>\n",
       "      <td>1.0</td>\n",
       "      <td>14502.75</td>\n",
       "      <td>0</td>\n",
       "    </tr>\n",
       "  </tbody>\n",
       "</table>\n",
       "</div>"
      ],
      "text/plain": [
       "   calls  minutes  messages   mb_used  is_ultra\n",
       "0   40.0   311.90      83.0  19915.42         0\n",
       "1   85.0   516.75      56.0  22696.96         0\n",
       "2   77.0   467.66      86.0  21060.45         0\n",
       "3  106.0   745.53      81.0   8437.39         1\n",
       "4   66.0   418.74       1.0  14502.75         0"
      ]
     },
     "execution_count": 2,
     "metadata": {},
     "output_type": "execute_result"
    }
   ],
   "source": [
    "data = pd.read_csv('users_behavior.csv')\n",
    "data.head(5)"
   ]
  },
  {
   "cell_type": "code",
   "execution_count": 3,
   "id": "dff96111",
   "metadata": {},
   "outputs": [
    {
     "name": "stdout",
     "output_type": "stream",
     "text": [
      "<class 'pandas.core.frame.DataFrame'>\n",
      "RangeIndex: 3214 entries, 0 to 3213\n",
      "Data columns (total 5 columns):\n",
      " #   Column    Non-Null Count  Dtype  \n",
      "---  ------    --------------  -----  \n",
      " 0   calls     3214 non-null   float64\n",
      " 1   minutes   3214 non-null   float64\n",
      " 2   messages  3214 non-null   float64\n",
      " 3   mb_used   3214 non-null   float64\n",
      " 4   is_ultra  3214 non-null   int64  \n",
      "dtypes: float64(4), int64(1)\n",
      "memory usage: 125.7 KB\n"
     ]
    }
   ],
   "source": [
    "data.info()"
   ]
  },
  {
   "cell_type": "code",
   "execution_count": 4,
   "id": "5947cd54",
   "metadata": {},
   "outputs": [
    {
     "data": {
      "image/png": "[encoded data removed]",
      "text/plain": [
       "<Figure size 640x480 with 1 Axes>"
      ]
     },
     "metadata": {},
     "output_type": "display_data"
    }
   ],
   "source": [
    "data['is_ultra'].value_counts().plot(kind='bar', grid=True);"
   ]
  },
  {
   "cell_type": "code",
   "execution_count": 5,
   "id": "cc289d5d",
   "metadata": {},
   "outputs": [],
   "source": [
    "def upsample(features, target, repeat):\n",
    "    features_zeros = features[target == 0]\n",
    "    features_ones = features[target == 1]\n",
    "    target_zeros = target[target == 0]\n",
    "    target_ones = target[target == 1]\n",
    "    \n",
    "    features_upsampled = pd.concat([features_zeros] + [features_ones] * repeat)\n",
    "    target_upsampled = pd.concat([target_zeros] + [target_ones] * repeat)\n",
    "    \n",
    "    return shuffle(features_upsampled, target_upsampled, random_state=1)"
   ]
  },
  {
   "cell_type": "code",
   "execution_count": 6,
   "id": "8c0bf855",
   "metadata": {},
   "outputs": [
    {
     "data": {
      "image/png": "[encoded data removed]",
      "text/plain": [
       "<Figure size 640x480 with 1 Axes>"
      ]
     },
     "metadata": {},
     "output_type": "display_data"
    }
   ],
   "source": [
    "data_train, data_other = train_test_split(data, test_size=0.4, random_state=1)\n",
    "data_valid, data_test = train_test_split(data_other, test_size=0.5, random_state=1)\n",
    "\n",
    "X_train = data_train.drop('is_ultra', axis=1)\n",
    "y_train = data_train['is_ultra']\n",
    "X_valid = data_valid.drop('is_ultra', axis=1)\n",
    "y_valid = data_valid['is_ultra']\n",
    "X_test = data_test.drop('is_ultra', axis=1)\n",
    "y_test = data_test['is_ultra']\n",
    "\n",
    "X_train_up, y_train_up = upsample(X_train, y_train, 2)\n",
    "y_train_up.value_counts().plot(kind='bar', grid=True);"
   ]
  },
  {
   "cell_type": "code",
   "execution_count": 7,
   "id": "86811d6c",
   "metadata": {},
   "outputs": [],
   "source": [
    "numeric = []\n",
    "[numeric.append(i) for i in data_train.columns if data_train[i].dtype == 'float' or data_train[i].dtype == 'int']\n",
    "categorial = []\n",
    "[categorial.append(i) for i in data_train.columns if data_train[i].dtype == 'object']\n",
    "\n",
    "def modeling(model, params_grid, features, target):\n",
    "    preprocessor = ColumnTransformer([('ohe', OneHotEncoder(), categorial),\n",
    "                                      ('scaler', StandardScaler(), numeric)])\n",
    "    pipeline = Pipeline([('preprocessor', preprocessor),\n",
    "                         ('model', GridSearchCV(model, \n",
    "                                                params_grid,\n",
    "                                                scoring='accuracy',\n",
    "                                                cv=5))]).fit(features, target)\n",
    "    \n",
    "    print(pipeline['model'].best_score_, pipeline['model'].best_params_, sep='\\n')\n",
    "    return pipeline"
   ]
  },
  {
   "cell_type": "markdown",
   "id": "37b3b6d3",
   "metadata": {},
   "source": [
    "## RandomForestClassifier"
   ]
  },
  {
   "cell_type": "code",
   "execution_count": 8,
   "id": "9b471780",
   "metadata": {},
   "outputs": [
    {
     "name": "stdout",
     "output_type": "stream",
     "text": [
      "0.7788\n",
      "{'max_depth': 7, 'min_samples_leaf': 3, 'min_samples_split': 2, 'n_estimators': 80}\n",
      "0.7916018662519441\n",
      "CPU times: total: 4min 55s\n",
      "Wall time: 4min 56s\n"
     ]
    }
   ],
   "source": [
    "%%time\n",
    "model = RandomForestClassifier(random_state=1)\n",
    "rfc_params = {'max_depth': range(4, 8),\n",
    "              'n_estimators': range(50, 91, 10),\n",
    "              'min_samples_split': range(2, 5),\n",
    "              'min_samples_leaf': range(2, 5)}\n",
    "rfc_model = modeling(model, rfc_params, X_train_up, y_train_up)\n",
    "rfc_valid = accuracy_score(y_valid, rfc_model.predict(X_valid))\n",
    "print(rfc_valid)"
   ]
  },
  {
   "cell_type": "markdown",
   "id": "dfec685b",
   "metadata": {},
   "source": [
    "## KNeighborsClassifier"
   ]
  },
  {
   "cell_type": "code",
   "execution_count": 9,
   "id": "56a9fea9",
   "metadata": {},
   "outputs": [
    {
     "name": "stdout",
     "output_type": "stream",
     "text": [
      "0.9164000000000001\n",
      "{'n_neighbors': 63, 'p': 3, 'weights': 'distance'}\n",
      "0.7916018662519441\n",
      "CPU times: total: 1min 24s\n",
      "Wall time: 1min 24s\n"
     ]
    }
   ],
   "source": [
    "%%time\n",
    "model = KNeighborsClassifier()\n",
    "knc_params = {\n",
    "    'n_neighbors': range(70),\n",
    "    'weights': ['uniform', 'distance'],\n",
    "    'p': [1, 2, 3, 4]\n",
    "}\n",
    "knc_model = modeling(model, knc_params, X_train_up, y_train_up)\n",
    "knc_valid = accuracy_score(y_valid, knc_model.predict(X_valid))\n",
    "print(knc_valid)"
   ]
  },
  {
   "cell_type": "markdown",
   "id": "55524184",
   "metadata": {},
   "source": [
    "## XGBClassifier"
   ]
  },
  {
   "cell_type": "code",
   "execution_count": 10,
   "id": "5a54bb08",
   "metadata": {},
   "outputs": [
    {
     "name": "stdout",
     "output_type": "stream",
     "text": [
      "0.836\n",
      "{'learning_rate': 0.1, 'max_depth': 9, 'n_estimators': 100}\n",
      "0.7869362363919129\n",
      "CPU times: total: 4min 2s\n",
      "Wall time: 1min 21s\n"
     ]
    }
   ],
   "source": [
    "%%time\n",
    "model = XGBClassifier(random_state=1)\n",
    "xgb_params = {'max_depth': range(2, 10),\n",
    "              'learning_rate': [0.05,0.1],\n",
    "              'n_estimators': range(10, 101, 10)}\n",
    "xgb_model = modeling(model, xgb_params, X_train_up, y_train_up)\n",
    "xgb_valid = accuracy_score(y_valid, xgb_model.predict(X_valid))\n",
    "print(xgb_valid)"
   ]
  },
  {
   "cell_type": "markdown",
   "id": "4815b357",
   "metadata": {},
   "source": [
    "## Overall result and test"
   ]
  },
  {
   "cell_type": "code",
   "execution_count": 11,
   "id": "28dc97ea",
   "metadata": {},
   "outputs": [
    {
     "data": {
      "text/html": [
       "<div>\n",
       "<style scoped>\n",
       "    .dataframe tbody tr th:only-of-type {\n",
       "        vertical-align: middle;\n",
       "    }\n",
       "\n",
       "    .dataframe tbody tr th {\n",
       "        vertical-align: top;\n",
       "    }\n",
       "\n",
       "    .dataframe thead th {\n",
       "        text-align: right;\n",
       "    }\n",
       "</style>\n",
       "<table border=\"1\" class=\"dataframe\">\n",
       "  <thead>\n",
       "    <tr style=\"text-align: right;\">\n",
       "      <th></th>\n",
       "      <th>train</th>\n",
       "      <th>valid</th>\n",
       "    </tr>\n",
       "  </thead>\n",
       "  <tbody>\n",
       "    <tr>\n",
       "      <th>RFC</th>\n",
       "      <td>0.7788</td>\n",
       "      <td>0.791602</td>\n",
       "    </tr>\n",
       "    <tr>\n",
       "      <th>KNC</th>\n",
       "      <td>0.9164</td>\n",
       "      <td>0.791602</td>\n",
       "    </tr>\n",
       "    <tr>\n",
       "      <th>XGB</th>\n",
       "      <td>0.8360</td>\n",
       "      <td>0.786936</td>\n",
       "    </tr>\n",
       "  </tbody>\n",
       "</table>\n",
       "</div>"
      ],
      "text/plain": [
       "      train     valid\n",
       "RFC  0.7788  0.791602\n",
       "KNC  0.9164  0.791602\n",
       "XGB  0.8360  0.786936"
      ]
     },
     "execution_count": 11,
     "metadata": {},
     "output_type": "execute_result"
    }
   ],
   "source": [
    "objects = [[rfc_model['model'].best_score_, rfc_valid],\n",
    "           [knc_model['model'].best_score_, knc_valid],\n",
    "           [xgb_model['model'].best_score_, xgb_valid]]\n",
    "columns = ['train', 'valid']\n",
    "overall = pd.DataFrame(data=objects,\n",
    "                       columns=columns,\n",
    "                       index=['RFC', 'KNC', 'XGB'])\n",
    "overall"
   ]
  },
  {
   "cell_type": "code",
   "execution_count": 12,
   "id": "3d168429",
   "metadata": {},
   "outputs": [
    {
     "data": {
      "text/plain": [
       "0.7900466562986003"
      ]
     },
     "execution_count": 12,
     "metadata": {},
     "output_type": "execute_result"
    }
   ],
   "source": [
    "rfc_test = accuracy_score(y_test, rfc_model.predict(X_test))\n",
    "rfc_test"
   ]
  },
  {
   "cell_type": "code",
   "execution_count": null,
   "id": "55acc7d2",
   "metadata": {},
   "outputs": [],
   "source": []
  }
 ],
 "metadata": {
  "kernelspec": {
   "display_name": "Python 3 (ipykernel)",
   "language": "python",
   "name": "python3"
  },
  "language_info": {
   "codemirror_mode": {
    "name": "ipython",
    "version": 3
   },
   "file_extension": ".py",
   "mimetype": "text/x-python",
   "name": "python",
   "nbconvert_exporter": "python",
   "pygments_lexer": "ipython3",
   "version": "3.9.18"
  }
 },
 "nbformat": 4,
 "nbformat_minor": 5
}
